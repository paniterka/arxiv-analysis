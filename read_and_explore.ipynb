{
 "cells": [
  {
   "cell_type": "code",
   "execution_count": 1,
   "metadata": {},
   "outputs": [],
   "source": [
    "import pandas as pd\n",
    "\n",
    "import json\n",
    "\n",
    "from copy import deepcopy"
   ]
  },
  {
   "cell_type": "markdown",
   "metadata": {},
   "source": [
    "___\n",
    "Initial exploration and helper functions"
   ]
  },
  {
   "cell_type": "code",
   "execution_count": 4,
   "metadata": {
    "collapsed": true
   },
   "outputs": [
    {
     "ename": "MemoryError",
     "evalue": "",
     "output_type": "error",
     "traceback": [
      "\u001b[1;31m---------------------------------------------------------------------------\u001b[0m",
      "\u001b[1;31mMemoryError\u001b[0m                               Traceback (most recent call last)",
      "\u001b[1;32m<ipython-input-4-07635bb615eb>\u001b[0m in \u001b[0;36m<module>\u001b[1;34m\u001b[0m\n\u001b[1;32m----> 1\u001b[1;33m \u001b[0marxiv\u001b[0m \u001b[1;33m=\u001b[0m \u001b[0mpd\u001b[0m\u001b[1;33m.\u001b[0m\u001b[0mread_json\u001b[0m\u001b[1;33m(\u001b[0m\u001b[1;34m'arxiv-metadata-oai-snapshot.json'\u001b[0m\u001b[1;33m,\u001b[0m \u001b[0mlines\u001b[0m\u001b[1;33m=\u001b[0m\u001b[1;32mTrue\u001b[0m\u001b[1;33m,\u001b[0m \u001b[0mnrows\u001b[0m\u001b[1;33m=\u001b[0m\u001b[1;36m10\u001b[0m\u001b[1;33m)\u001b[0m\u001b[1;33m\u001b[0m\u001b[1;33m\u001b[0m\u001b[0m\n\u001b[0m",
      "\u001b[1;32m~\\Anaconda3\\lib\\site-packages\\pandas\\util\\_decorators.py\u001b[0m in \u001b[0;36mwrapper\u001b[1;34m(*args, **kwargs)\u001b[0m\n\u001b[0;32m    197\u001b[0m                 \u001b[1;32melse\u001b[0m\u001b[1;33m:\u001b[0m\u001b[1;33m\u001b[0m\u001b[1;33m\u001b[0m\u001b[0m\n\u001b[0;32m    198\u001b[0m                     \u001b[0mkwargs\u001b[0m\u001b[1;33m[\u001b[0m\u001b[0mnew_arg_name\u001b[0m\u001b[1;33m]\u001b[0m \u001b[1;33m=\u001b[0m \u001b[0mnew_arg_value\u001b[0m\u001b[1;33m\u001b[0m\u001b[1;33m\u001b[0m\u001b[0m\n\u001b[1;32m--> 199\u001b[1;33m             \u001b[1;32mreturn\u001b[0m \u001b[0mfunc\u001b[0m\u001b[1;33m(\u001b[0m\u001b[1;33m*\u001b[0m\u001b[0margs\u001b[0m\u001b[1;33m,\u001b[0m \u001b[1;33m**\u001b[0m\u001b[0mkwargs\u001b[0m\u001b[1;33m)\u001b[0m\u001b[1;33m\u001b[0m\u001b[1;33m\u001b[0m\u001b[0m\n\u001b[0m\u001b[0;32m    200\u001b[0m \u001b[1;33m\u001b[0m\u001b[0m\n\u001b[0;32m    201\u001b[0m         \u001b[1;32mreturn\u001b[0m \u001b[0mcast\u001b[0m\u001b[1;33m(\u001b[0m\u001b[0mF\u001b[0m\u001b[1;33m,\u001b[0m \u001b[0mwrapper\u001b[0m\u001b[1;33m)\u001b[0m\u001b[1;33m\u001b[0m\u001b[1;33m\u001b[0m\u001b[0m\n",
      "\u001b[1;32m~\\Anaconda3\\lib\\site-packages\\pandas\\util\\_decorators.py\u001b[0m in \u001b[0;36mwrapper\u001b[1;34m(*args, **kwargs)\u001b[0m\n\u001b[0;32m    294\u001b[0m                 )\n\u001b[0;32m    295\u001b[0m                 \u001b[0mwarnings\u001b[0m\u001b[1;33m.\u001b[0m\u001b[0mwarn\u001b[0m\u001b[1;33m(\u001b[0m\u001b[0mmsg\u001b[0m\u001b[1;33m,\u001b[0m \u001b[0mFutureWarning\u001b[0m\u001b[1;33m,\u001b[0m \u001b[0mstacklevel\u001b[0m\u001b[1;33m=\u001b[0m\u001b[0mstacklevel\u001b[0m\u001b[1;33m)\u001b[0m\u001b[1;33m\u001b[0m\u001b[1;33m\u001b[0m\u001b[0m\n\u001b[1;32m--> 296\u001b[1;33m             \u001b[1;32mreturn\u001b[0m \u001b[0mfunc\u001b[0m\u001b[1;33m(\u001b[0m\u001b[1;33m*\u001b[0m\u001b[0margs\u001b[0m\u001b[1;33m,\u001b[0m \u001b[1;33m**\u001b[0m\u001b[0mkwargs\u001b[0m\u001b[1;33m)\u001b[0m\u001b[1;33m\u001b[0m\u001b[1;33m\u001b[0m\u001b[0m\n\u001b[0m\u001b[0;32m    297\u001b[0m \u001b[1;33m\u001b[0m\u001b[0m\n\u001b[0;32m    298\u001b[0m         \u001b[1;32mreturn\u001b[0m \u001b[0mwrapper\u001b[0m\u001b[1;33m\u001b[0m\u001b[1;33m\u001b[0m\u001b[0m\n",
      "\u001b[1;32m~\\Anaconda3\\lib\\site-packages\\pandas\\io\\json\\_json.py\u001b[0m in \u001b[0;36mread_json\u001b[1;34m(path_or_buf, orient, typ, dtype, convert_axes, convert_dates, keep_default_dates, numpy, precise_float, date_unit, encoding, lines, chunksize, compression, nrows)\u001b[0m\n\u001b[0;32m    610\u001b[0m         \u001b[0mchunksize\u001b[0m\u001b[1;33m=\u001b[0m\u001b[0mchunksize\u001b[0m\u001b[1;33m,\u001b[0m\u001b[1;33m\u001b[0m\u001b[1;33m\u001b[0m\u001b[0m\n\u001b[0;32m    611\u001b[0m         \u001b[0mcompression\u001b[0m\u001b[1;33m=\u001b[0m\u001b[0mcompression\u001b[0m\u001b[1;33m,\u001b[0m\u001b[1;33m\u001b[0m\u001b[1;33m\u001b[0m\u001b[0m\n\u001b[1;32m--> 612\u001b[1;33m         \u001b[0mnrows\u001b[0m\u001b[1;33m=\u001b[0m\u001b[0mnrows\u001b[0m\u001b[1;33m,\u001b[0m\u001b[1;33m\u001b[0m\u001b[1;33m\u001b[0m\u001b[0m\n\u001b[0m\u001b[0;32m    613\u001b[0m     )\n\u001b[0;32m    614\u001b[0m \u001b[1;33m\u001b[0m\u001b[0m\n",
      "\u001b[1;32m~\\Anaconda3\\lib\\site-packages\\pandas\\io\\json\\_json.py\u001b[0m in \u001b[0;36m__init__\u001b[1;34m(self, filepath_or_buffer, orient, typ, dtype, convert_axes, convert_dates, keep_default_dates, numpy, precise_float, date_unit, encoding, lines, chunksize, compression, nrows)\u001b[0m\n\u001b[0;32m    678\u001b[0m \u001b[1;33m\u001b[0m\u001b[0m\n\u001b[0;32m    679\u001b[0m         \u001b[0mdata\u001b[0m \u001b[1;33m=\u001b[0m \u001b[0mself\u001b[0m\u001b[1;33m.\u001b[0m\u001b[0m_get_data_from_filepath\u001b[0m\u001b[1;33m(\u001b[0m\u001b[0mfilepath_or_buffer\u001b[0m\u001b[1;33m)\u001b[0m\u001b[1;33m\u001b[0m\u001b[1;33m\u001b[0m\u001b[0m\n\u001b[1;32m--> 680\u001b[1;33m         \u001b[0mself\u001b[0m\u001b[1;33m.\u001b[0m\u001b[0mdata\u001b[0m \u001b[1;33m=\u001b[0m \u001b[0mself\u001b[0m\u001b[1;33m.\u001b[0m\u001b[0m_preprocess_data\u001b[0m\u001b[1;33m(\u001b[0m\u001b[0mdata\u001b[0m\u001b[1;33m)\u001b[0m\u001b[1;33m\u001b[0m\u001b[1;33m\u001b[0m\u001b[0m\n\u001b[0m\u001b[0;32m    681\u001b[0m \u001b[1;33m\u001b[0m\u001b[0m\n\u001b[0;32m    682\u001b[0m     \u001b[1;32mdef\u001b[0m \u001b[0m_preprocess_data\u001b[0m\u001b[1;33m(\u001b[0m\u001b[0mself\u001b[0m\u001b[1;33m,\u001b[0m \u001b[0mdata\u001b[0m\u001b[1;33m)\u001b[0m\u001b[1;33m:\u001b[0m\u001b[1;33m\u001b[0m\u001b[1;33m\u001b[0m\u001b[0m\n",
      "\u001b[1;32m~\\Anaconda3\\lib\\site-packages\\pandas\\io\\json\\_json.py\u001b[0m in \u001b[0;36m_preprocess_data\u001b[1;34m(self, data)\u001b[0m\n\u001b[0;32m    691\u001b[0m             \u001b[0mdata\u001b[0m \u001b[1;33m=\u001b[0m \u001b[0mdata\u001b[0m\u001b[1;33m.\u001b[0m\u001b[0mread\u001b[0m\u001b[1;33m(\u001b[0m\u001b[1;33m)\u001b[0m\u001b[1;33m\u001b[0m\u001b[1;33m\u001b[0m\u001b[0m\n\u001b[0;32m    692\u001b[0m         \u001b[1;32mif\u001b[0m \u001b[1;32mnot\u001b[0m \u001b[0mhasattr\u001b[0m\u001b[1;33m(\u001b[0m\u001b[0mdata\u001b[0m\u001b[1;33m,\u001b[0m \u001b[1;34m\"read\"\u001b[0m\u001b[1;33m)\u001b[0m \u001b[1;32mand\u001b[0m \u001b[1;33m(\u001b[0m\u001b[0mself\u001b[0m\u001b[1;33m.\u001b[0m\u001b[0mchunksize\u001b[0m \u001b[1;32mor\u001b[0m \u001b[0mself\u001b[0m\u001b[1;33m.\u001b[0m\u001b[0mnrows\u001b[0m\u001b[1;33m)\u001b[0m\u001b[1;33m:\u001b[0m\u001b[1;33m\u001b[0m\u001b[1;33m\u001b[0m\u001b[0m\n\u001b[1;32m--> 693\u001b[1;33m             \u001b[0mdata\u001b[0m \u001b[1;33m=\u001b[0m \u001b[0mStringIO\u001b[0m\u001b[1;33m(\u001b[0m\u001b[0mdata\u001b[0m\u001b[1;33m)\u001b[0m\u001b[1;33m\u001b[0m\u001b[1;33m\u001b[0m\u001b[0m\n\u001b[0m\u001b[0;32m    694\u001b[0m \u001b[1;33m\u001b[0m\u001b[0m\n\u001b[0;32m    695\u001b[0m         \u001b[1;32mreturn\u001b[0m \u001b[0mdata\u001b[0m\u001b[1;33m\u001b[0m\u001b[1;33m\u001b[0m\u001b[0m\n",
      "\u001b[1;31mMemoryError\u001b[0m: "
     ]
    }
   ],
   "source": [
    "arxiv = pd.read_json('arxiv-metadata-oai-snapshot.json', lines=True, nrows=10)"
   ]
  },
  {
   "cell_type": "code",
   "execution_count": 8,
   "metadata": {},
   "outputs": [],
   "source": [
    "with open('tmp.txt') as f: \n",
    "    tmp = json.loads(f.read())"
   ]
  },
  {
   "cell_type": "code",
   "execution_count": 10,
   "metadata": {},
   "outputs": [
    {
     "data": {
      "text/plain": [
       "dict_keys(['id', 'submitter', 'authors', 'title', 'comments', 'journal-ref', 'doi', 'report-no', 'categories', 'license', 'abstract', 'versions', 'update_date', 'authors_parsed'])"
      ]
     },
     "execution_count": 10,
     "metadata": {},
     "output_type": "execute_result"
    }
   ],
   "source": [
    "tmp.keys()"
   ]
  },
  {
   "cell_type": "code",
   "execution_count": 81,
   "metadata": {},
   "outputs": [],
   "source": [
    "def get_line_count(filename):\n",
    "    counter = 0\n",
    "    with open(filename) as f: \n",
    "        for line in f:\n",
    "            counter +=1\n",
    "    return counter"
   ]
  },
  {
   "cell_type": "code",
   "execution_count": 83,
   "metadata": {},
   "outputs": [
    {
     "data": {
      "text/plain": [
       "1796911"
      ]
     },
     "execution_count": 83,
     "metadata": {},
     "output_type": "execute_result"
    }
   ],
   "source": [
    "get_line_count('arxiv-metadata-oai-snapshot.json')"
   ]
  },
  {
   "cell_type": "code",
   "execution_count": 86,
   "metadata": {},
   "outputs": [
    {
     "data": {
      "text/plain": [
       "1080.0"
      ]
     },
     "execution_count": 86,
     "metadata": {},
     "output_type": "execute_result"
    }
   ],
   "source": [
    "1800000/1000*0.6"
   ]
  },
  {
   "cell_type": "code",
   "execution_count": 17,
   "metadata": {},
   "outputs": [],
   "source": [
    "def read_n_entries(filename,n):\n",
    "    with open(filename) as f: \n",
    "        head = [json.loads(next(f)) for x in range(n)];\n",
    "    return head"
   ]
  },
  {
   "cell_type": "code",
   "execution_count": 73,
   "metadata": {},
   "outputs": [],
   "source": [
    "def parse_json(entry): \n",
    "    keys = ['id','authors','title','categories','versions','authors_parsed','doi']\n",
    "    keys_binary = ['journal-ref','doi','report-no']\n",
    "    out = {k: deepcopy(entry[k]) for k in keys}\n",
    "    out['is_published'] = any([(entry[k] != None) for k in keys_binary])\n",
    "    return out"
   ]
  },
  {
   "cell_type": "code",
   "execution_count": 74,
   "metadata": {},
   "outputs": [],
   "source": [
    "def read_parse_n_entries(filename,n):\n",
    "    with open(filename) as f: \n",
    "        head = [parse_json(json.loads(next(f))) for x in range(n)];\n",
    "    return head"
   ]
  },
  {
   "cell_type": "code",
   "execution_count": 89,
   "metadata": {},
   "outputs": [],
   "source": [
    "def read_parse_all_entries_df(filename):\n",
    "    out = []\n",
    "    with open(filename) as f: \n",
    "        for line in f:\n",
    "            out.append(parse_json(json.loads(line)))\n",
    "    return pd.DataFrame(out)"
   ]
  },
  {
   "cell_type": "code",
   "execution_count": 63,
   "metadata": {},
   "outputs": [],
   "source": [
    "tmpj = read_n_entries('arxiv-metadata-oai-snapshot.json',10)"
   ]
  },
  {
   "cell_type": "code",
   "execution_count": 79,
   "metadata": {},
   "outputs": [
    {
     "name": "stdout",
     "output_type": "stream",
     "text": [
      "<class 'pandas.core.frame.DataFrame'>\n",
      "RangeIndex: 1000 entries, 0 to 999\n",
      "Data columns (total 8 columns):\n",
      " #   Column          Non-Null Count  Dtype \n",
      "---  ------          --------------  ----- \n",
      " 0   id              1000 non-null   object\n",
      " 1   authors         1000 non-null   object\n",
      " 2   title           1000 non-null   object\n",
      " 3   categories      1000 non-null   object\n",
      " 4   versions        1000 non-null   object\n",
      " 5   authors_parsed  1000 non-null   object\n",
      " 6   doi             659 non-null    object\n",
      " 7   is_published    1000 non-null   bool  \n",
      "dtypes: bool(1), object(7)\n",
      "memory usage: 596.4 KB\n"
     ]
    }
   ],
   "source": [
    "pd.DataFrame(read_parse_n_entries('arxiv-metadata-oai-snapshot.json',1000)).info(memory_usage=\"deep\")"
   ]
  },
  {
   "cell_type": "code",
   "execution_count": 80,
   "metadata": {},
   "outputs": [
    {
     "name": "stdout",
     "output_type": "stream",
     "text": [
      "<class 'pandas.core.frame.DataFrame'>\n",
      "RangeIndex: 1000 entries, 0 to 999\n",
      "Data columns (total 14 columns):\n",
      " #   Column          Non-Null Count  Dtype \n",
      "---  ------          --------------  ----- \n",
      " 0   id              1000 non-null   object\n",
      " 1   submitter       1000 non-null   object\n",
      " 2   authors         1000 non-null   object\n",
      " 3   title           1000 non-null   object\n",
      " 4   comments        901 non-null    object\n",
      " 5   journal-ref     573 non-null    object\n",
      " 6   doi             659 non-null    object\n",
      " 7   report-no       78 non-null     object\n",
      " 8   categories      1000 non-null   object\n",
      " 9   license         58 non-null     object\n",
      " 10  abstract        1000 non-null   object\n",
      " 11  versions        1000 non-null   object\n",
      " 12  update_date     1000 non-null   object\n",
      " 13  authors_parsed  1000 non-null   object\n",
      "dtypes: object(14)\n",
      "memory usage: 1.8 MB\n"
     ]
    }
   ],
   "source": [
    "pd.DataFrame(read_n_entries('arxiv-metadata-oai-snapshot.json',1000)).info(memory_usage=\"deep\")"
   ]
  },
  {
   "cell_type": "code",
   "execution_count": 62,
   "metadata": {},
   "outputs": [],
   "source": [
    "df = pd.DataFrame(read_n_entries('arxiv-metadata-oai-snapshot.json',10))"
   ]
  },
  {
   "cell_type": "markdown",
   "metadata": {},
   "source": [
    "___"
   ]
  },
  {
   "cell_type": "markdown",
   "metadata": {},
   "source": [
    "## Read the whole parsed json"
   ]
  },
  {
   "cell_type": "code",
   "execution_count": 90,
   "metadata": {},
   "outputs": [
    {
     "name": "stdout",
     "output_type": "stream",
     "text": [
      "Wall time: 2min 16s\n"
     ]
    }
   ],
   "source": [
    "%%time\n",
    "arxiv = read_parse_all_entries_df('arxiv-metadata-oai-snapshot.json')"
   ]
  },
  {
   "cell_type": "code",
   "execution_count": 91,
   "metadata": {},
   "outputs": [
    {
     "name": "stdout",
     "output_type": "stream",
     "text": [
      "<class 'pandas.core.frame.DataFrame'>\n",
      "RangeIndex: 1796911 entries, 0 to 1796910\n",
      "Data columns (total 8 columns):\n",
      " #   Column          Dtype \n",
      "---  ------          ----- \n",
      " 0   id              object\n",
      " 1   authors         object\n",
      " 2   title           object\n",
      " 3   categories      object\n",
      " 4   versions        object\n",
      " 5   authors_parsed  object\n",
      " 6   doi             object\n",
      " 7   is_published    bool  \n",
      "dtypes: bool(1), object(7)\n",
      "memory usage: 1.1 GB\n"
     ]
    }
   ],
   "source": [
    "arxiv.info(memory_usage=\"deep\")"
   ]
  },
  {
   "cell_type": "markdown",
   "metadata": {},
   "source": [
    "Categories statistics"
   ]
  },
  {
   "cell_type": "code",
   "execution_count": 92,
   "metadata": {},
   "outputs": [
    {
     "data": {
      "text/plain": [
       "astro-ph                                         86914\n",
       "hep-ph                                           73550\n",
       "quant-ph                                         53966\n",
       "hep-th                                           53287\n",
       "cond-mat.mtrl-sci                                30107\n",
       "                                                 ...  \n",
       "physics.class-ph cond-mat.mtrl-sci gr-qc             1\n",
       "cs.CG math.GT math.MG                                1\n",
       "cs.CL cs.SI q-fin.ST                                 1\n",
       "stat.ML cs.LG math.OC math.ST stat.AP stat.TH        1\n",
       "math.AG cs.SC math.CV                                1\n",
       "Name: categories, Length: 62055, dtype: int64"
      ]
     },
     "execution_count": 92,
     "metadata": {},
     "output_type": "execute_result"
    }
   ],
   "source": [
    "arxiv['categories'].value_counts()"
   ]
  },
  {
   "cell_type": "code",
   "execution_count": 94,
   "metadata": {},
   "outputs": [
    {
     "data": {
      "text/plain": [
       "1     1025259\n",
       "2      502711\n",
       "3      187804\n",
       "4       60999\n",
       "5       16025\n",
       "6        3404\n",
       "7         541\n",
       "8         121\n",
       "9          30\n",
       "10         14\n",
       "11          2\n",
       "13          1\n",
       "Name: categories, dtype: int64"
      ]
     },
     "execution_count": 94,
     "metadata": {},
     "output_type": "execute_result"
    }
   ],
   "source": [
    "arxiv['categories'].apply(lambda x: len(x.split(' '))).value_counts()"
   ]
  },
  {
   "cell_type": "markdown",
   "metadata": {},
   "source": [
    "So we have ca. 2/3 entries with a single classification, and rest belongs to more than 1 category"
   ]
  },
  {
   "cell_type": "markdown",
   "metadata": {},
   "source": [
    "Let's look at the extreme side:"
   ]
  },
  {
   "cell_type": "code",
   "execution_count": 95,
   "metadata": {},
   "outputs": [
    {
     "data": {
      "text/plain": [
       "77549      13\n",
       "57365      11\n",
       "1545826    11\n",
       "1777614    10\n",
       "1688950    10\n",
       "77796      10\n",
       "1677040    10\n",
       "1463715    10\n",
       "1638391    10\n",
       "1796672    10\n",
       "1772146    10\n",
       "19444      10\n",
       "18505      10\n",
       "141660     10\n",
       "1543928    10\n",
       "1675693    10\n",
       "1736009    10\n",
       "1531230     9\n",
       "1383087     9\n",
       "158233      9\n",
       "Name: categories, dtype: int64"
      ]
     },
     "execution_count": 95,
     "metadata": {},
     "output_type": "execute_result"
    }
   ],
   "source": [
    "arxiv['categories'].apply(lambda x: len(x.split(' '))).sort_values(ascending=False).head(20)"
   ]
  },
  {
   "cell_type": "code",
   "execution_count": 101,
   "metadata": {},
   "outputs": [],
   "source": [
    "arxiv['n_categories'] = arxiv['categories'].apply(lambda x: len(x.split(' ')))"
   ]
  },
  {
   "cell_type": "code",
   "execution_count": 97,
   "metadata": {},
   "outputs": [
    {
     "data": {
      "text/plain": [
       "'The finite harmonic oscillator and its associated sequences'"
      ]
     },
     "execution_count": 97,
     "metadata": {},
     "output_type": "execute_result"
    }
   ],
   "source": [
    "arxiv.iloc[77549]['title']"
   ]
  },
  {
   "cell_type": "code",
   "execution_count": 98,
   "metadata": {},
   "outputs": [
    {
     "data": {
      "text/plain": [
       "'Visco-potential free-surface flows and long wave modelling'"
      ]
     },
     "execution_count": 98,
     "metadata": {},
     "output_type": "execute_result"
    }
   ],
   "source": [
    "arxiv.iloc[57365]['title']"
   ]
  },
  {
   "cell_type": "code",
   "execution_count": 100,
   "metadata": {},
   "outputs": [
    {
     "data": {
      "text/plain": [
       "id                                                       cs/0410017\n",
       "authors                    Carl S. McTague and James P. Crutchfield\n",
       "title             Automated Pattern Detection--An Algorithm for ...\n",
       "categories        cs.CV cond-mat.stat-mech cs.CL cs.DS cs.IR cs....\n",
       "versions          [{'version': 'v1', 'created': 'Thu, 7 Oct 2004...\n",
       "authors_parsed    [[McTague, Carl S., ], [Crutchfield, James P., ]]\n",
       "doi                                                            None\n",
       "is_published                                                   True\n",
       "Name: 1545826, dtype: object"
      ]
     },
     "execution_count": 100,
     "metadata": {},
     "output_type": "execute_result"
    }
   ],
   "source": [
    "arxiv.iloc[1545826]"
   ]
  },
  {
   "cell_type": "markdown",
   "metadata": {},
   "source": [
    "Look at the single categories"
   ]
  },
  {
   "cell_type": "code",
   "execution_count": 103,
   "metadata": {},
   "outputs": [
    {
     "data": {
      "text/plain": [
       "array(['hep-ph', 'physics.gen-ph', 'math.CO', 'cond-mat.mes-hall',\n",
       "       'gr-qc', 'cond-mat.mtrl-sci', 'astro-ph', 'math.NT', 'hep-th',\n",
       "       'hep-ex', 'math.NA', 'nlin.PS', 'math.RA', 'cond-mat.str-el',\n",
       "       'physics.pop-ph', 'nucl-th', 'math.FA', 'cs.DS', 'math.DS',\n",
       "       'physics.soc-ph', 'math.AG', 'math.OA', 'math.PR', 'math.DG',\n",
       "       'physics.optics', 'math.GR', 'nlin.SI', 'math.SG',\n",
       "       'physics.data-an', 'cs.CC', 'math.GT', 'quant-ph',\n",
       "       'cond-mat.other', 'math.CV', 'math.AP', 'cond-mat.supr-con',\n",
       "       'math.RT', 'cond-mat.stat-mech', 'q-bio.OT', 'physics.plasm-ph',\n",
       "       'nlin.CG', 'nucl-ex', 'cond-mat.soft', 'physics.comp-ph',\n",
       "       'math.MG', 'math.QA', 'physics.bio-ph', 'physics.chem-ph',\n",
       "       'math.AT', 'physics.geo-ph', 'q-bio.BM', 'math.OC', 'cs.CR',\n",
       "       'physics.class-ph', 'q-bio.PE', 'q-bio.NC', 'physics.atom-ph',\n",
       "       'math.GM', 'hep-lat', 'math.CA', 'physics.atm-clus', 'cs.PF',\n",
       "       'physics.acc-ph', 'math.SP', 'nlin.CD', 'physics.hist-ph',\n",
       "       'physics.flu-dyn', 'cond-mat.dis-nn', 'cs.CV', 'cs.LG', 'cs.SE',\n",
       "       'physics.ed-ph', 'physics.ins-det', 'cs.PL', 'q-bio.CB', 'cs.AI',\n",
       "       'math.LO', 'cs.LO', 'stat.AP', 'nlin.AO', 'cs.DC', 'cs.DM',\n",
       "       'cs.NI', 'cs.OH', 'q-bio.GN', 'q-bio.MN', 'math.KT', 'math.AC',\n",
       "       'physics.med-ph', 'cs.HC', 'cs.NE', 'physics.ao-ph', 'math.HO',\n",
       "       'q-bio.QM', 'cs.MS', 'physics.space-ph', 'cs.DB', 'cs.CL',\n",
       "       'math.CT', 'cs.CE', 'cs.GT', 'cs.CY', 'cs.CG', 'stat.ME', 'cs.RO',\n",
       "       'cs.GL', 'cs.MA', 'math.GN', 'cs.IR', 'stat.ML', 'cs.DL', 'cs.SC',\n",
       "       'q-bio.SC', 'stat.CO', 'cs.NA', 'cs.AR', 'q-bio.TO', 'cs.GR',\n",
       "       'cs.OS', 'cs.MM', 'cs.SD', 'cond-mat.quant-gas', 'q-fin.GN',\n",
       "       'q-fin.ST', 'q-fin.PM', 'q-fin.PR', 'q-fin.CP', 'q-fin.RM',\n",
       "       'astro-ph.HE', 'astro-ph.SR', 'astro-ph.GA', 'astro-ph.CO',\n",
       "       'astro-ph.IM', 'astro-ph.EP', 'q-fin.TR', 'cs.FL', 'stat.OT',\n",
       "       'cs.SY', 'cs.SI', 'cs.ET', 'eess.SP', 'q-fin.EC', 'q-fin.MF',\n",
       "       'physics.app-ph', 'econ.TH', 'eess.IV', 'econ.EM', 'eess.AS',\n",
       "       'cond-mat'], dtype=object)"
      ]
     },
     "execution_count": 103,
     "metadata": {},
     "output_type": "execute_result"
    }
   ],
   "source": [
    "arxiv.query('n_categories == 1')['categories'].unique()"
   ]
  },
  {
   "cell_type": "code",
   "execution_count": 108,
   "metadata": {},
   "outputs": [],
   "source": [
    "versions = arxiv.iloc[0]['versions']"
   ]
  },
  {
   "cell_type": "code",
   "execution_count": 109,
   "metadata": {},
   "outputs": [
    {
     "data": {
      "text/plain": [
       "[{'version': 'v1', 'created': 'Mon, 2 Apr 2007 19:18:42 GMT'},\n",
       " {'version': 'v2', 'created': 'Tue, 24 Jul 2007 20:10:27 GMT'}]"
      ]
     },
     "execution_count": 109,
     "metadata": {},
     "output_type": "execute_result"
    }
   ],
   "source": [
    "versions"
   ]
  },
  {
   "cell_type": "code",
   "execution_count": 154,
   "metadata": {},
   "outputs": [],
   "source": [
    "def extract_dt_submission(versions_list):\n",
    "    tmp = pd.to_datetime([item['created'] for item in versions_list if item['version']=='v1'][0])    \n",
    "    return tmp"
   ]
  },
  {
   "cell_type": "code",
   "execution_count": 156,
   "metadata": {},
   "outputs": [
    {
     "data": {
      "text/plain": [
       "928"
      ]
     },
     "execution_count": 156,
     "metadata": {},
     "output_type": "execute_result"
    }
   ],
   "source": [
    "arxiv.head(100)['versions'].apply(extract_dt_submission).memory_usage(deep=True)"
   ]
  },
  {
   "cell_type": "code",
   "execution_count": 160,
   "metadata": {},
   "outputs": [
    {
     "name": "stdout",
     "output_type": "stream",
     "text": [
      "Wall time: 11min 25s\n"
     ]
    }
   ],
   "source": [
    "%%time\n",
    "arxiv['submitted'] = arxiv['versions'].apply(extract_dt_submission)"
   ]
  },
  {
   "cell_type": "code",
   "execution_count": 161,
   "metadata": {},
   "outputs": [
    {
     "data": {
      "text/plain": [
       "0   2007-04-02 19:18:42+00:00\n",
       "1   2007-03-31 02:26:18+00:00\n",
       "2   2007-04-01 20:46:54+00:00\n",
       "3   2007-03-31 03:16:14+00:00\n",
       "4   2007-04-02 18:09:58+00:00\n",
       "Name: submitted, dtype: datetime64[ns, UTC]"
      ]
     },
     "execution_count": 161,
     "metadata": {},
     "output_type": "execute_result"
    }
   ],
   "source": [
    "arxiv.head()['submitted']"
   ]
  },
  {
   "cell_type": "code",
   "execution_count": 162,
   "metadata": {},
   "outputs": [
    {
     "name": "stdout",
     "output_type": "stream",
     "text": [
      "<class 'pandas.core.frame.DataFrame'>\n",
      "RangeIndex: 1796911 entries, 0 to 1796910\n",
      "Data columns (total 10 columns):\n",
      " #   Column          Dtype              \n",
      "---  ------          -----              \n",
      " 0   id              object             \n",
      " 1   authors         object             \n",
      " 2   title           object             \n",
      " 3   categories      object             \n",
      " 4   versions        object             \n",
      " 5   authors_parsed  object             \n",
      " 6   doi             object             \n",
      " 7   is_published    bool               \n",
      " 8   n_categories    int64              \n",
      " 9   submitted       datetime64[ns, UTC]\n",
      "dtypes: bool(1), datetime64[ns, UTC](1), int64(1), object(7)\n",
      "memory usage: 1.1 GB\n"
     ]
    }
   ],
   "source": [
    "arxiv.info(memory_usage=\"deep\")"
   ]
  },
  {
   "cell_type": "code",
   "execution_count": 164,
   "metadata": {},
   "outputs": [
    {
     "name": "stdout",
     "output_type": "stream",
     "text": [
      "Wall time: 1.01 s\n"
     ]
    }
   ],
   "source": [
    "%%time\n",
    "arxiv['n_versions'] = arxiv['versions'].apply(lambda x: len(x))"
   ]
  },
  {
   "cell_type": "code",
   "execution_count": 165,
   "metadata": {},
   "outputs": [
    {
     "data": {
      "text/html": [
       "<div>\n",
       "<style scoped>\n",
       "    .dataframe tbody tr th:only-of-type {\n",
       "        vertical-align: middle;\n",
       "    }\n",
       "\n",
       "    .dataframe tbody tr th {\n",
       "        vertical-align: top;\n",
       "    }\n",
       "\n",
       "    .dataframe thead th {\n",
       "        text-align: right;\n",
       "    }\n",
       "</style>\n",
       "<table border=\"1\" class=\"dataframe\">\n",
       "  <thead>\n",
       "    <tr style=\"text-align: right;\">\n",
       "      <th></th>\n",
       "      <th>id</th>\n",
       "      <th>authors</th>\n",
       "      <th>title</th>\n",
       "      <th>categories</th>\n",
       "      <th>versions</th>\n",
       "      <th>authors_parsed</th>\n",
       "      <th>doi</th>\n",
       "      <th>is_published</th>\n",
       "      <th>n_categories</th>\n",
       "      <th>submitted</th>\n",
       "      <th>n_versions</th>\n",
       "    </tr>\n",
       "  </thead>\n",
       "  <tbody>\n",
       "    <tr>\n",
       "      <th>0</th>\n",
       "      <td>0704.0001</td>\n",
       "      <td>C. Bal\\'azs, E. L. Berger, P. M. Nadolsky, C.-...</td>\n",
       "      <td>Calculation of prompt diphoton production cros...</td>\n",
       "      <td>hep-ph</td>\n",
       "      <td>[{'version': 'v1', 'created': 'Mon, 2 Apr 2007...</td>\n",
       "      <td>[[Balázs, C., ], [Berger, E. L., ], [Nadolsky,...</td>\n",
       "      <td>10.1103/PhysRevD.76.013009</td>\n",
       "      <td>True</td>\n",
       "      <td>1</td>\n",
       "      <td>2007-04-02 19:18:42+00:00</td>\n",
       "      <td>2</td>\n",
       "    </tr>\n",
       "    <tr>\n",
       "      <th>1</th>\n",
       "      <td>0704.0002</td>\n",
       "      <td>Ileana Streinu and Louis Theran</td>\n",
       "      <td>Sparsity-certifying Graph Decompositions</td>\n",
       "      <td>math.CO cs.CG</td>\n",
       "      <td>[{'version': 'v1', 'created': 'Sat, 31 Mar 200...</td>\n",
       "      <td>[[Streinu, Ileana, ], [Theran, Louis, ]]</td>\n",
       "      <td>None</td>\n",
       "      <td>False</td>\n",
       "      <td>2</td>\n",
       "      <td>2007-03-31 02:26:18+00:00</td>\n",
       "      <td>2</td>\n",
       "    </tr>\n",
       "    <tr>\n",
       "      <th>2</th>\n",
       "      <td>0704.0003</td>\n",
       "      <td>Hongjun Pan</td>\n",
       "      <td>The evolution of the Earth-Moon system based o...</td>\n",
       "      <td>physics.gen-ph</td>\n",
       "      <td>[{'version': 'v1', 'created': 'Sun, 1 Apr 2007...</td>\n",
       "      <td>[[Pan, Hongjun, ]]</td>\n",
       "      <td>None</td>\n",
       "      <td>False</td>\n",
       "      <td>1</td>\n",
       "      <td>2007-04-01 20:46:54+00:00</td>\n",
       "      <td>3</td>\n",
       "    </tr>\n",
       "    <tr>\n",
       "      <th>3</th>\n",
       "      <td>0704.0004</td>\n",
       "      <td>David Callan</td>\n",
       "      <td>A determinant of Stirling cycle numbers counts...</td>\n",
       "      <td>math.CO</td>\n",
       "      <td>[{'version': 'v1', 'created': 'Sat, 31 Mar 200...</td>\n",
       "      <td>[[Callan, David, ]]</td>\n",
       "      <td>None</td>\n",
       "      <td>False</td>\n",
       "      <td>1</td>\n",
       "      <td>2007-03-31 03:16:14+00:00</td>\n",
       "      <td>1</td>\n",
       "    </tr>\n",
       "    <tr>\n",
       "      <th>4</th>\n",
       "      <td>0704.0005</td>\n",
       "      <td>Wael Abu-Shammala and Alberto Torchinsky</td>\n",
       "      <td>From dyadic $\\Lambda_{\\alpha}$ to $\\Lambda_{\\a...</td>\n",
       "      <td>math.CA math.FA</td>\n",
       "      <td>[{'version': 'v1', 'created': 'Mon, 2 Apr 2007...</td>\n",
       "      <td>[[Abu-Shammala, Wael, ], [Torchinsky, Alberto, ]]</td>\n",
       "      <td>None</td>\n",
       "      <td>True</td>\n",
       "      <td>2</td>\n",
       "      <td>2007-04-02 18:09:58+00:00</td>\n",
       "      <td>1</td>\n",
       "    </tr>\n",
       "  </tbody>\n",
       "</table>\n",
       "</div>"
      ],
      "text/plain": [
       "          id                                            authors  \\\n",
       "0  0704.0001  C. Bal\\'azs, E. L. Berger, P. M. Nadolsky, C.-...   \n",
       "1  0704.0002                    Ileana Streinu and Louis Theran   \n",
       "2  0704.0003                                        Hongjun Pan   \n",
       "3  0704.0004                                       David Callan   \n",
       "4  0704.0005           Wael Abu-Shammala and Alberto Torchinsky   \n",
       "\n",
       "                                               title       categories  \\\n",
       "0  Calculation of prompt diphoton production cros...           hep-ph   \n",
       "1           Sparsity-certifying Graph Decompositions    math.CO cs.CG   \n",
       "2  The evolution of the Earth-Moon system based o...   physics.gen-ph   \n",
       "3  A determinant of Stirling cycle numbers counts...          math.CO   \n",
       "4  From dyadic $\\Lambda_{\\alpha}$ to $\\Lambda_{\\a...  math.CA math.FA   \n",
       "\n",
       "                                            versions  \\\n",
       "0  [{'version': 'v1', 'created': 'Mon, 2 Apr 2007...   \n",
       "1  [{'version': 'v1', 'created': 'Sat, 31 Mar 200...   \n",
       "2  [{'version': 'v1', 'created': 'Sun, 1 Apr 2007...   \n",
       "3  [{'version': 'v1', 'created': 'Sat, 31 Mar 200...   \n",
       "4  [{'version': 'v1', 'created': 'Mon, 2 Apr 2007...   \n",
       "\n",
       "                                      authors_parsed  \\\n",
       "0  [[Balázs, C., ], [Berger, E. L., ], [Nadolsky,...   \n",
       "1           [[Streinu, Ileana, ], [Theran, Louis, ]]   \n",
       "2                                 [[Pan, Hongjun, ]]   \n",
       "3                                [[Callan, David, ]]   \n",
       "4  [[Abu-Shammala, Wael, ], [Torchinsky, Alberto, ]]   \n",
       "\n",
       "                          doi  is_published  n_categories  \\\n",
       "0  10.1103/PhysRevD.76.013009          True             1   \n",
       "1                        None         False             2   \n",
       "2                        None         False             1   \n",
       "3                        None         False             1   \n",
       "4                        None          True             2   \n",
       "\n",
       "                  submitted  n_versions  \n",
       "0 2007-04-02 19:18:42+00:00           2  \n",
       "1 2007-03-31 02:26:18+00:00           2  \n",
       "2 2007-04-01 20:46:54+00:00           3  \n",
       "3 2007-03-31 03:16:14+00:00           1  \n",
       "4 2007-04-02 18:09:58+00:00           1  "
      ]
     },
     "execution_count": 165,
     "metadata": {},
     "output_type": "execute_result"
    }
   ],
   "source": [
    "arxiv.head()"
   ]
  },
  {
   "cell_type": "code",
   "execution_count": 185,
   "metadata": {},
   "outputs": [
    {
     "name": "stdout",
     "output_type": "stream",
     "text": [
      "Wall time: 29.9 s\n"
     ]
    }
   ],
   "source": [
    "%%time\n",
    "arxiv.to_pickle('arxiv.pickle')"
   ]
  }
 ],
 "metadata": {
  "kernelspec": {
   "display_name": "Python 3",
   "language": "python",
   "name": "python3"
  },
  "language_info": {
   "codemirror_mode": {
    "name": "ipython",
    "version": 3
   },
   "file_extension": ".py",
   "mimetype": "text/x-python",
   "name": "python",
   "nbconvert_exporter": "python",
   "pygments_lexer": "ipython3",
   "version": "3.6.8"
  }
 },
 "nbformat": 4,
 "nbformat_minor": 4
}
